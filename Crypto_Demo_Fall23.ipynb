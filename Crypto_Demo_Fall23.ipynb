{
  "nbformat": 4,
  "nbformat_minor": 0,
  "metadata": {
    "kernelspec": {
      "display_name": "Python 3",
      "language": "python",
      "name": "python3"
    },
    "language_info": {
      "codemirror_mode": {
        "name": "ipython",
        "version": 3
      },
      "file_extension": ".py",
      "mimetype": "text/x-python",
      "name": "python",
      "nbconvert_exporter": "python",
      "pygments_lexer": "ipython3",
      "version": "3.8.7"
    },
    "colab": {
      "provenance": []
    }
  },
  "cells": [
    {
      "cell_type": "code",
      "metadata": {
        "id": "8Lxo-Ce1Ak9D"
      },
      "source": [
        "def shift_encrypt(plain, key):\n",
        "    cipher =\"\"\n",
        "    for char in plain:\n",
        "        if char.isupper():\n",
        "            cipher+= chr ((ord(char)+key-65)%26+65) # ASCII range: 65- 90\n",
        "        elif char.islower():\n",
        "            cipher+= chr ((ord(char)+key-97)%26+97) # ASCII range: 97- 113\n",
        "        else:\n",
        "            cipher+= char\n",
        "\n",
        "\n",
        "    return cipher"
      ],
      "execution_count": null,
      "outputs": []
    },
    {
      "cell_type": "code",
      "metadata": {
        "id": "p4VqMo0bAk9F"
      },
      "source": [
        "def shift_decrypt(cipher, key):\n",
        "    plain =\"\"\n",
        "    for char in cipher:\n",
        "        if char.isupper():\n",
        "            plain+= chr ((ord(char)-key-65)%26+65)\n",
        "        elif char.islower():\n",
        "            plain+= chr ((ord(char)-key-97)%26+97)\n",
        "        else:\n",
        "            plain+= char\n",
        "\n",
        "\n",
        "    return plain"
      ],
      "execution_count": null,
      "outputs": []
    },
    {
      "cell_type": "code",
      "metadata": {
        "id": "0MYJV-ApAk9F",
        "colab": {
          "base_uri": "https://localhost:8080/"
        },
        "outputId": "13e34449-2928-41df-f5cb-b98f63784137"
      },
      "source": [
        "# test\n",
        "m = input('Plain text: ')\n",
        "k = int(input('Key (1-26): '))\n",
        "c = shift_encrypt(m,k)\n",
        "print ('Cipher text: ',c)\n",
        "\n",
        "m = shift_decrypt(c, k)\n",
        "print ('Plain text: ',m)"
      ],
      "execution_count": null,
      "outputs": [
        {
          "output_type": "stream",
          "name": "stdout",
          "text": [
            "Plain text: This is a sample plain-text!\n",
            "Key (1-26): 23\n",
            "Cipher text:  Qefp fp x pxjmib mixfk-qbuq!\n",
            "Plain text:  This is a sample plain-text!\n"
          ]
        }
      ]
    },
    {
      "cell_type": "markdown",
      "metadata": {
        "id": "lSxhNNz8Ak9H"
      },
      "source": [
        "# Breaking Shift Cipher with Brut-force"
      ]
    },
    {
      "cell_type": "code",
      "metadata": {
        "id": "qFwY-n3PAk9I",
        "colab": {
          "base_uri": "https://localhost:8080/"
        },
        "outputId": "f37db0a1-9b18-4e38-da52-fc83d5f6b7c1"
      },
      "source": [
        "# Assumption: you are given the ciphertext and encryption method is public + plaintext is meaningful.\n",
        "cipher = \"Aopz pz h tlzzhnl av rllw zljyla!\"\n",
        "for k in range (1,26):\n",
        "    print (k, shift_decrypt(cipher,k))\n"
      ],
      "execution_count": null,
      "outputs": [
        {
          "output_type": "stream",
          "name": "stdout",
          "text": [
            "1 Znoy oy g skyygmk zu qkkv ykixkz!\n",
            "2 Ymnx nx f rjxxflj yt pjju xjhwjy!\n",
            "3 Xlmw mw e qiwweki xs oiit wigvix!\n",
            "4 Wklv lv d phvvdjh wr nhhs vhfuhw!\n",
            "5 Vjku ku c oguucig vq mggr ugetgv!\n",
            "6 Uijt jt b nfttbhf up lffq tfdsfu!\n",
            "7 This is a message to keep secret!\n",
            "8 Sghr hr z ldrrzfd sn jddo rdbqds!\n",
            "9 Rfgq gq y kcqqyec rm iccn qcapcr!\n",
            "10 Qefp fp x jbppxdb ql hbbm pbzobq!\n",
            "11 Pdeo eo w iaoowca pk gaal oaynap!\n",
            "12 Ocdn dn v hznnvbz oj fzzk nzxmzo!\n",
            "13 Nbcm cm u gymmuay ni eyyj mywlyn!\n",
            "14 Mabl bl t fxlltzx mh dxxi lxvkxm!\n",
            "15 Lzak ak s ewkksyw lg cwwh kwujwl!\n",
            "16 Kyzj zj r dvjjrxv kf bvvg jvtivk!\n",
            "17 Jxyi yi q cuiiqwu je auuf iushuj!\n",
            "18 Iwxh xh p bthhpvt id ztte htrgti!\n",
            "19 Hvwg wg o asggous hc yssd gsqfsh!\n",
            "20 Guvf vf n zrffntr gb xrrc frperg!\n",
            "21 Ftue ue m yqeemsq fa wqqb eqodqf!\n",
            "22 Estd td l xpddlrp ez vppa dpncpe!\n",
            "23 Drsc sc k wocckqo dy uooz combod!\n",
            "24 Cqrb rb j vnbbjpn cx tnny bnlanc!\n",
            "25 Bpqa qa i umaaiom bw smmx amkzmb!\n"
          ]
        }
      ]
    },
    {
      "cell_type": "markdown",
      "metadata": {
        "id": "wyhcxChwAk9J"
      },
      "source": [
        "# Breaking Shift Cipher with Frequency Analysis"
      ]
    },
    {
      "cell_type": "code",
      "metadata": {
        "id": "tfdwf76pAk9J",
        "colab": {
          "base_uri": "https://localhost:8080/"
        },
        "outputId": "6f9631d6-2e9a-44ad-8f8f-5d530d35113a"
      },
      "source": [
        "# Assumption: you're given ciphertext and encryption method is public + you may not know the key space.\n",
        "c = \"LBHFUBHYQARIREOHVYQLBHEBJAPELCGB\"\n",
        "freq_en = {'A': 0.080, 'B': 0.015, 'C': 0.030, 'D': 0.040, 'E': 0.130, 'F': 0.020, 'G': 0.015, 'H': 0.060, 'I': 0.065, 'J': 0.005, 'K': 0.005, 'L': 0.035, 'M': 0.030, 'N': 0.070, 'O': 0.080, 'P': 0.020, 'Q': 0.002, 'R': 0.065, 'S': 0.060, 'T': 0.090, 'U': 0.030, 'V': 0.010, 'W': 0.015, 'X': 0.005, 'Y': 0.020, 'Z': 0.002}\n",
        "freq_c = {}\n",
        "for char in c:\n",
        "    if char not in freq_c.keys():\n",
        "        freq_c[char]= 1\n",
        "    else:\n",
        "        freq_c[char]+=1\n",
        "\n",
        "print ('English letters frequency: ',freq_en)\n",
        "print ('Cipher text frequency: ',freq_c)\n",
        "\n",
        "for k, v in freq_c.items():\n",
        "    freq_c[k] = v/len(c)\n",
        "\n",
        "\n",
        "print ('Cipher text frequency: ', freq_c)\n"
      ],
      "execution_count": null,
      "outputs": [
        {
          "output_type": "stream",
          "name": "stdout",
          "text": [
            "English letters frequency:  {'A': 0.08, 'B': 0.015, 'C': 0.03, 'D': 0.04, 'E': 0.13, 'F': 0.02, 'G': 0.015, 'H': 0.06, 'I': 0.065, 'J': 0.005, 'K': 0.005, 'L': 0.035, 'M': 0.03, 'N': 0.07, 'O': 0.08, 'P': 0.02, 'Q': 0.002, 'R': 0.065, 'S': 0.06, 'T': 0.09, 'U': 0.03, 'V': 0.01, 'W': 0.015, 'X': 0.005, 'Y': 0.02, 'Z': 0.002}\n",
            "Cipher text frequency:  {'L': 3, 'B': 5, 'H': 4, 'F': 1, 'U': 1, 'Y': 2, 'Q': 2, 'A': 2, 'R': 2, 'I': 1, 'E': 3, 'O': 1, 'V': 1, 'J': 1, 'P': 1, 'C': 1, 'G': 1}\n",
            "Cipher text frequency:  {'L': 0.09375, 'B': 0.15625, 'H': 0.125, 'F': 0.03125, 'U': 0.03125, 'Y': 0.0625, 'Q': 0.0625, 'A': 0.0625, 'R': 0.0625, 'I': 0.03125, 'E': 0.09375, 'O': 0.03125, 'V': 0.03125, 'J': 0.03125, 'P': 0.03125, 'C': 0.03125, 'G': 0.03125}\n"
          ]
        }
      ]
    },
    {
      "cell_type": "code",
      "metadata": {
        "id": "RQj2mNRRAk9K",
        "colab": {
          "base_uri": "https://localhost:8080/"
        },
        "outputId": "555cda47-8ab4-4389-b1b6-7221bbbbe251"
      },
      "source": [
        "# compute correlation\n",
        "\n",
        "for i in range (1,26):\n",
        "    phi =0.0\n",
        "    for k, v in freq_c.items():\n",
        "        phi = phi+ freq_c[k] * freq_en[chr( (ord(k)-65-i)%26+65)]\n",
        "\n",
        "    print (i, phi)\n",
        "\n"
      ],
      "execution_count": null,
      "outputs": [
        {
          "output_type": "stream",
          "name": "stdout",
          "text": [
            "1 0.037906249999999996\n",
            "2 0.0325\n",
            "3 0.04646875\n",
            "4 0.038031249999999996\n",
            "5 0.027437500000000007\n",
            "6 0.025843750000000002\n",
            "7 0.04865625\n",
            "8 0.037875\n",
            "9 0.037875\n",
            "10 0.03409375\n",
            "11 0.035625000000000004\n",
            "12 0.03525\n",
            "13 0.052812500000000005\n",
            "14 0.04237500000000001\n",
            "15 0.03246875\n",
            "16 0.04403125000000001\n",
            "17 0.0338125\n",
            "18 0.030656250000000006\n",
            "19 0.04178125\n",
            "20 0.046406249999999996\n",
            "21 0.0261875\n",
            "22 0.037250000000000005\n",
            "23 0.054531249999999996\n",
            "24 0.04303124999999998\n",
            "25 0.03175000000000001\n"
          ]
        }
      ]
    },
    {
      "cell_type": "code",
      "metadata": {
        "id": "OjgoYQACAk9L",
        "colab": {
          "base_uri": "https://localhost:8080/"
        },
        "outputId": "256cab9f-6aa7-4458-bfc7-a21a9ee512c0"
      },
      "source": [
        "# try top-5 key candidates\n",
        "keys =[23, 13, 20, 7,3]\n",
        "for k in keys:\n",
        "    print(k, shift_decrypt(c,k))"
      ],
      "execution_count": null,
      "outputs": [
        {
          "output_type": "stream",
          "name": "stdout",
          "text": [
            "23 OEKIXEKBTDULUHRKYBTOEKHEMDSHOFJE\n",
            "13 YOUSHOULDNEVERBUILDYOUROWNCRYPTO\n",
            "20 RHNLAHNEWGXOXKUNBEWRHNKHPGVKRIMH\n",
            "7 EUAYNUARJTKBKXHAORJEUAXUCTIXEVZU\n",
            "3 IYECRYEVNXOFOBLESVNIYEBYGXMBIZDY\n"
          ]
        }
      ]
    },
    {
      "cell_type": "markdown",
      "metadata": {
        "id": "Wu_pNi43Ak9M"
      },
      "source": [
        "# Substitution Cipher\n",
        "\n",
        "Plaintext: contains alphabets(upper-case+lower-case), digits, and common punctuations."
      ]
    },
    {
      "cell_type": "code",
      "metadata": {
        "id": "7Ga9g1AZAk9M"
      },
      "source": [
        "import random\n",
        "import string"
      ],
      "execution_count": null,
      "outputs": []
    },
    {
      "cell_type": "code",
      "metadata": {
        "id": "J5lBq3x2Ak9N",
        "colab": {
          "base_uri": "https://localhost:8080/",
          "height": 35
        },
        "outputId": "7f96bdb0-b58b-4840-c33c-520e26652cf0"
      },
      "source": [
        "# alphabets\n",
        "alpha = string.ascii_letters\n",
        "alpha"
      ],
      "execution_count": null,
      "outputs": [
        {
          "output_type": "execute_result",
          "data": {
            "text/plain": [
              "'abcdefghijklmnopqrstuvwxyzABCDEFGHIJKLMNOPQRSTUVWXYZ'"
            ],
            "application/vnd.google.colaboratory.intrinsic+json": {
              "type": "string"
            }
          },
          "metadata": {},
          "execution_count": 36
        }
      ]
    },
    {
      "cell_type": "code",
      "metadata": {
        "id": "l4BICxSEAk9N",
        "colab": {
          "base_uri": "https://localhost:8080/",
          "height": 35
        },
        "outputId": "6ab5f071-9549-4631-da78-ebfcba197039"
      },
      "source": [
        "# digits\n",
        "digits = string.digits\n",
        "digits"
      ],
      "execution_count": null,
      "outputs": [
        {
          "output_type": "execute_result",
          "data": {
            "text/plain": [
              "'0123456789'"
            ],
            "application/vnd.google.colaboratory.intrinsic+json": {
              "type": "string"
            }
          },
          "metadata": {},
          "execution_count": 37
        }
      ]
    },
    {
      "cell_type": "code",
      "metadata": {
        "id": "mBy4QzN9Ak9O",
        "colab": {
          "base_uri": "https://localhost:8080/",
          "height": 35
        },
        "outputId": "b7f71e63-c72c-4643-c490-6d55d1a42b2f"
      },
      "source": [
        "# puncts\n",
        "puncts = string.punctuation\n",
        "puncts"
      ],
      "execution_count": null,
      "outputs": [
        {
          "output_type": "execute_result",
          "data": {
            "text/plain": [
              "'!\"#$%&\\'()*+,-./:;<=>?@[\\\\]^_`{|}~'"
            ],
            "application/vnd.google.colaboratory.intrinsic+json": {
              "type": "string"
            }
          },
          "metadata": {},
          "execution_count": 38
        }
      ]
    },
    {
      "cell_type": "code",
      "metadata": {
        "id": "7loQHe8ZAk9O",
        "colab": {
          "base_uri": "https://localhost:8080/",
          "height": 35
        },
        "outputId": "06e440dc-af25-4db5-9555-08a3d6114f7a"
      },
      "source": [
        "# generate substitutes for alphabets\n",
        "alpha_subs = list(alpha)\n",
        "random.shuffle(alpha_subs)\n",
        "\"\".join(alpha_subs)"
      ],
      "execution_count": null,
      "outputs": [
        {
          "output_type": "execute_result",
          "data": {
            "text/plain": [
              "'MhtYArsKQjDkFIClHRbPdyaLoqcUmXeuwvfgzNnJBVZWETipGSxO'"
            ],
            "application/vnd.google.colaboratory.intrinsic+json": {
              "type": "string"
            }
          },
          "metadata": {},
          "execution_count": 39
        }
      ]
    },
    {
      "cell_type": "code",
      "metadata": {
        "id": "2qZbZ_j_Ak9P",
        "colab": {
          "base_uri": "https://localhost:8080/",
          "height": 35
        },
        "outputId": "7a326a16-16c2-4021-c5b9-400a8d2ad41e"
      },
      "source": [
        "digits_subs =list (digits)\n",
        "random.shuffle(digits_subs)\n",
        "\"\".join(digits_subs)"
      ],
      "execution_count": null,
      "outputs": [
        {
          "output_type": "execute_result",
          "data": {
            "text/plain": [
              "'6518094237'"
            ],
            "application/vnd.google.colaboratory.intrinsic+json": {
              "type": "string"
            }
          },
          "metadata": {},
          "execution_count": 40
        }
      ]
    },
    {
      "cell_type": "code",
      "metadata": {
        "id": "ywobdOLyAk9Q",
        "colab": {
          "base_uri": "https://localhost:8080/"
        },
        "outputId": "5269120a-f42f-48c5-b271-877b19a26a41"
      },
      "source": [
        "puncts_subs = list(puncts)\n",
        "random.shuffle(puncts_subs)\n",
        "print (\"\".join(puncts_subs))"
      ],
      "execution_count": null,
      "outputs": [
        {
          "output_type": "stream",
          "name": "stdout",
          "text": [
            "$\\:{_@#(*[&!%,~/^+.]<`-;\")=}?|'>\n"
          ]
        }
      ]
    },
    {
      "cell_type": "code",
      "metadata": {
        "id": "33TXuZ7dAk9Q"
      },
      "source": [
        "def subs_encrypt(m, subs_alpha, subs_digits, subs_punct):\n",
        "    cipher =\"\"\n",
        "    for i in range (len(m)):\n",
        "        if m[i] in alpha:\n",
        "            cipher+= subs_alpha[alpha.find(m[i])] # alphabets\n",
        "\n",
        "        elif m[i] in digits:\n",
        "            cipher+= subs_digits[digits.find(m[i])] # digits\n",
        "\n",
        "        elif m[i] in puncts:\n",
        "            cipher+= subs_punct[puncts.find(m[i])] # punctuations\n",
        "        else:\n",
        "          cipher+= m[i]\n",
        "\n",
        "    return cipher\n",
        "\n"
      ],
      "execution_count": null,
      "outputs": []
    },
    {
      "cell_type": "code",
      "metadata": {
        "id": "2AQfR5yoAk9R"
      },
      "source": [
        "def subs_decrypt(c, subs_alpha, subs_digits, subs_punct):\n",
        "    plain =\"\"\n",
        "    for i in range (len(c)):\n",
        "        if c[i] in alpha:\n",
        "            plain+= alpha[subs_alpha.find(c[i])] # alphabets\n",
        "\n",
        "        elif c[i] in digits:\n",
        "            plain+= digits[subs_digits.find(c[i])] # digits\n",
        "\n",
        "        elif c[i] in puncts:\n",
        "            plain+= puncts[subs_punct.find(c[i])] # punctuations\n",
        "        else:\n",
        "          plain+= c[i]\n",
        "\n",
        "    return plain"
      ],
      "execution_count": null,
      "outputs": []
    },
    {
      "cell_type": "code",
      "metadata": {
        "id": "8n1f6cxyAk9R",
        "colab": {
          "base_uri": "https://localhost:8080/"
        },
        "outputId": "3277be44-02f7-4e4b-ee27-08aa43140ad7"
      },
      "source": [
        "# Ecrypt a message\n",
        "m= input ('Message: ')\n",
        "c = subs_encrypt(m, \"\".join(alpha_subs),\"\".join(digits_subs), \"\".join(puncts_subs) )\n",
        "print ('Ciphertext:',c)\n"
      ],
      "execution_count": null,
      "outputs": [
        {
          "output_type": "stream",
          "name": "stdout",
          "text": [
            "Message: This is a substitution cipher demo in the CIS 545 class in Fall 2023!!!!????\n",
            "Ciphertext: TKQb Qb M bdhbPQPdPQCI tQlKAR YAFC QI PKA mfE 909 tkMbb QI uMkk 1618$$$$<<<<\n"
          ]
        }
      ]
    },
    {
      "cell_type": "code",
      "metadata": {
        "id": "6VU-yIpQAk9R",
        "colab": {
          "base_uri": "https://localhost:8080/"
        },
        "outputId": "da4d2e22-fc97-4dce-f68b-12e21f089206"
      },
      "source": [
        "# Decrypt ciphertext\n",
        "m = subs_decrypt(c,\"\".join(alpha_subs),\"\".join(digits_subs), \"\".join(puncts_subs))\n",
        "print('Plaintext: ', m)"
      ],
      "execution_count": null,
      "outputs": [
        {
          "output_type": "stream",
          "name": "stdout",
          "text": [
            "Plaintext:  This is a substitution cipher demo in the CIS 545 class in Fall 2023!!!!????\n"
          ]
        }
      ]
    },
    {
      "cell_type": "markdown",
      "metadata": {
        "id": "ka-hxYlSAk9S"
      },
      "source": [
        "# Vigenere Cipher"
      ]
    },
    {
      "cell_type": "code",
      "metadata": {
        "id": "GVrZPH6sAk9S"
      },
      "source": [
        "import random\n",
        "\n",
        "# XOR is used to demonstrate encryption/decryption: can be replaced with other\n",
        "def generate_key(m, word):\n",
        "    word_freq = int(len(m)/len(word)) # number of times to repeat word\n",
        "    remainder = len(m)% len(word) # remainder which needs to be < key length\n",
        "    key = word*word_freq # multiples of word frequency\n",
        "    key+= word[:remainder] # append remainder which makes part of word depending on legth\n",
        "    return key\n",
        "\n",
        "def encrypt_vigenere(m, key):\n",
        "    cipher = '' #bytearray(len(m))\n",
        "    for i in range (len(m)):\n",
        "        cipher+= chr(ord(m[i])^ord(key[i]))\n",
        "\n",
        "    return str(cipher)\n",
        "\n",
        "def decrypt_vigenere(c, key):\n",
        "    m = '' #bytearray(len(c))\n",
        "    for i in range (len(c)):\n",
        "        m+= chr(ord(c[i])^ ord(key[i]))\n",
        "\n",
        "    return str(m)"
      ],
      "execution_count": null,
      "outputs": []
    },
    {
      "cell_type": "code",
      "metadata": {
        "id": "Ej7tEcSbEFu2",
        "colab": {
          "base_uri": "https://localhost:8080/"
        },
        "outputId": "6a4dab2b-5e5c-4358-f116-8bb445713efc"
      },
      "source": [
        "# test vigenere\n",
        "words = ['crypto', 'password', 'cipher', 'security'] # could be a whole Englishg dictionary\n",
        "word = random.choice(words) # pick a word randomly\n",
        "print('Word: ', word)\n",
        "m = input('Plain-text:')\n",
        "k = generate_key(m, word)\n",
        "print ('Key: ',k)\n",
        "c = encrypt_vigenere(m,k)\n",
        "print ('Cipher text: ', c)\n",
        "m = decrypt_vigenere(str(c),k)\n",
        "print ('Plain text: ',m)"
      ],
      "execution_count": null,
      "outputs": [
        {
          "output_type": "stream",
          "name": "stdout",
          "text": [
            "Word:  password\n",
            "Plain-text:Hello World!\n",
            "Key:  passwordpass\n",
            "\u0017R\n",
            "Plain text:  Hello World!\n"
          ]
        }
      ]
    },
    {
      "cell_type": "markdown",
      "metadata": {
        "id": "2xtOGdE0Ak9S"
      },
      "source": [
        "# One-Time Pad"
      ]
    },
    {
      "cell_type": "code",
      "metadata": {
        "id": "1hnsaKdGAk9S"
      },
      "source": [
        "# One-Time Pad demo using XOR as encryption\n",
        "\n",
        "import random\n",
        "\n",
        "def generate_otp(m):\n",
        "    n = len(m)\n",
        "    k = ''.join([random.choice(list(alpha+digits+puncts)) for num in range(0,n)])\n",
        "    return k\n",
        "\n",
        "def otp_encrypt(m,pad):\n",
        "    cipher = ''\n",
        "    for i in range (len(m)):\n",
        "        cipher+= chr(ord(m[i])^ord(pad[i]))\n",
        "\n",
        "    return cipher\n",
        "\n",
        "\n",
        "def otp_decrypt(c,pad):\n",
        "\n",
        "    plain = ''\n",
        "    for i in range (len(c)):\n",
        "        plain+= chr(ord(c[i])^ord(pad[i]))\n",
        "\n",
        "    return plain"
      ],
      "execution_count": null,
      "outputs": []
    },
    {
      "cell_type": "code",
      "metadata": {
        "id": "SPSoSCt5EPG7",
        "colab": {
          "base_uri": "https://localhost:8080/"
        },
        "outputId": "939e3abf-87b5-4d5c-ea43-a774935c1f09"
      },
      "source": [
        "# test OTP\n",
        "m = input('Message to encrypt:')\n",
        "pad = generate_otp(m)\n",
        "print ('OTP: ', pad)\n",
        "c = otp_encrypt(m,pad)\n",
        "print ('Ciphertext:', c)\n",
        "\n",
        "m = otp_decrypt(c,pad)\n",
        "print ('Plaintext: ',m)"
      ],
      "execution_count": null,
      "outputs": [
        {
          "output_type": "stream",
          "name": "stdout",
          "text": [
            "Message to encrypt:Hello World!\n",
            "OTP:  _>1E-d>dW$X7\n",
            "Ciphertext: \u0017[])BDi\u000b%H<\u0016\n",
            "Plaintext:  Hello World!\n"
          ]
        }
      ]
    },
    {
      "cell_type": "markdown",
      "metadata": {
        "id": "ncSJE-DGAk9T"
      },
      "source": [
        "# Deffie-Hellman Key Exchange Simulation"
      ]
    },
    {
      "cell_type": "code",
      "metadata": {
        "id": "EeoG7iMTAk9T",
        "colab": {
          "base_uri": "https://localhost:8080/"
        },
        "outputId": "ab9d12f7-d2e3-4258-fa4c-86978b4e01ae"
      },
      "source": [
        "import random\n",
        "\n",
        "# let a ditionary be the shared insecure channel :-)\n",
        "channel ={}\n",
        "\n",
        "p = random.randint(123567, 3456789)\n",
        "g = random.randint(500, 7000)\n",
        "print ('p =',p)\n",
        "print ('g =',g)\n",
        "channel['p'] = p\n",
        "channel['g'] = g\n",
        "print ('Channel content, can be seen by Eve: ',channel)"
      ],
      "execution_count": null,
      "outputs": [
        {
          "output_type": "stream",
          "name": "stdout",
          "text": [
            "p = 3246298\n",
            "g = 6483\n",
            "Channel content, can be seen by Eve:  {'p': 3246298, 'g': 6483}\n"
          ]
        }
      ]
    },
    {
      "cell_type": "code",
      "metadata": {
        "id": "tqm-EKEtAk9T",
        "colab": {
          "base_uri": "https://localhost:8080/"
        },
        "outputId": "60bfa01e-b2bd-40f7-f881-f7913964a935"
      },
      "source": [
        "# pick secret numbers\n",
        "a = random.randint(1,200) # Alice's secret number\n",
        "b = random.randint(1, 300) # Bob's secret number\n",
        "print ('Alice picks a =',a)\n",
        "print ('Bob picks b =',b)\n",
        "print (\"They don't leak a and b to the channel!\")\n",
        "print ('Channel content, can be seen by Eve: ',channel)"
      ],
      "execution_count": null,
      "outputs": [
        {
          "output_type": "stream",
          "name": "stdout",
          "text": [
            "Alice picks a = 182\n",
            "Bob picks b = 277\n",
            "They don't leak a and b to the channel!\n",
            "Channel content, can be seen by Eve:  {'p': 3246298, 'g': 6483}\n"
          ]
        }
      ]
    },
    {
      "cell_type": "code",
      "metadata": {
        "id": "dGOJfXT7Ak9T",
        "colab": {
          "base_uri": "https://localhost:8080/"
        },
        "outputId": "fe40ff2b-a800-4629-e2d9-eb6fed648ad6"
      },
      "source": [
        "# Compute modulo and exchange\n",
        "A = g**a % p # assume A is sent to Bob\n",
        "B = g**b % p  # assume B is sent to Alice\n",
        "print ('A =',A)\n",
        "print ('B =',B)\n",
        "channel['A'] = A\n",
        "channel['B'] = B\n",
        "print ('Channel content, can be seen by Eve: ',channel)"
      ],
      "execution_count": null,
      "outputs": [
        {
          "output_type": "stream",
          "name": "stdout",
          "text": [
            "A = 2468471\n",
            "B = 556473\n",
            "Channel content, can be seen by Eve:  {'p': 3246298, 'g': 6483, 'A': 2468471, 'B': 556473}\n"
          ]
        }
      ]
    },
    {
      "cell_type": "code",
      "metadata": {
        "id": "hHkK5kXhAk9T",
        "colab": {
          "base_uri": "https://localhost:8080/"
        },
        "outputId": "081dcbb6-8e09-4e5c-d68e-7f0d176d76e9"
      },
      "source": [
        "# Compute secret key: assuming Alice grabs B and Bob grabs A from the shared channel\n",
        "key_Alice = channel['B']**a % p\n",
        "key_Bob = channel['A']**b %p\n",
        "print ('Key computed by Alice =',key_Alice)\n",
        "print ('Key computed by Bob =',key_Bob)"
      ],
      "execution_count": null,
      "outputs": [
        {
          "output_type": "stream",
          "name": "stdout",
          "text": [
            "Key computed by Alice = 1685049\n",
            "Key computed by Bob = 1685049\n"
          ]
        }
      ]
    },
    {
      "cell_type": "markdown",
      "metadata": {
        "id": "yS7q232YAk9U"
      },
      "source": [
        "# Hash functions"
      ]
    },
    {
      "cell_type": "code",
      "metadata": {
        "id": "slOv2gGTAk9U",
        "colab": {
          "base_uri": "https://localhost:8080/",
          "height": 35
        },
        "outputId": "5dd45f9a-b875-4618-a9e2-565855221bb6"
      },
      "source": [
        "import hashlib\n",
        "passwd = 'Thursday'\n",
        "passwd"
      ],
      "execution_count": null,
      "outputs": [
        {
          "output_type": "execute_result",
          "data": {
            "text/plain": [
              "'Thursday'"
            ],
            "application/vnd.google.colaboratory.intrinsic+json": {
              "type": "string"
            }
          },
          "metadata": {},
          "execution_count": 57
        }
      ]
    },
    {
      "cell_type": "code",
      "source": [],
      "metadata": {
        "id": "DzVs73G5Ea7f"
      },
      "execution_count": null,
      "outputs": []
    },
    {
      "cell_type": "code",
      "metadata": {
        "id": "ZVhvOdt7Ak9U",
        "colab": {
          "base_uri": "https://localhost:8080/"
        },
        "outputId": "a5171605-a257-4fb3-903a-fee82ec2cc20"
      },
      "source": [
        "# hash password: md5\n",
        "md5_hash = hashlib.md5(passwd.encode('utf-8')).hexdigest()\n",
        "print ('MD5 Hash:',md5_hash, ',legth:',len(md5_hash))"
      ],
      "execution_count": null,
      "outputs": [
        {
          "output_type": "stream",
          "name": "stdout",
          "text": [
            "MD5 Hash: 78ae6f0cd191d25147e252dc54768238 ,legth: 32\n"
          ]
        }
      ]
    },
    {
      "cell_type": "code",
      "metadata": {
        "id": "quJf8VM0Ak9U",
        "colab": {
          "base_uri": "https://localhost:8080/"
        },
        "outputId": "dbc118d4-c42c-4e4b-f460-597facb36117"
      },
      "source": [
        "# hash password: sha1\n",
        "sha1_hash = hashlib.sha1(passwd.encode('utf-8')).hexdigest()\n",
        "print ('SHA1 Hash:',sha1_hash, ',legth:',len(sha1_hash))"
      ],
      "execution_count": null,
      "outputs": [
        {
          "output_type": "stream",
          "name": "stdout",
          "text": [
            "SHA1 Hash: 76031ddf92450ba52c1e3945097079807a9065c2 ,legth: 40\n"
          ]
        }
      ]
    },
    {
      "cell_type": "code",
      "metadata": {
        "id": "LnaXtN5mAk9U",
        "colab": {
          "base_uri": "https://localhost:8080/"
        },
        "outputId": "cb13e2a9-c38f-4540-f48b-ff2ce76eb753"
      },
      "source": [
        "# hash password: sha224\n",
        "sha224_hash = hashlib.sha224(passwd.encode('utf-8')).hexdigest()\n",
        "print ('SHA224 Hash:',sha224_hash, ',legth:',len(sha224_hash))"
      ],
      "execution_count": null,
      "outputs": [
        {
          "output_type": "stream",
          "name": "stdout",
          "text": [
            "SHA224 Hash: aa148d60decce3519b637a756881c34ffb2e90a9e8372cc0cd4cefaf ,legth: 56\n"
          ]
        }
      ]
    },
    {
      "cell_type": "code",
      "metadata": {
        "id": "OSx6dB31Ak9V",
        "colab": {
          "base_uri": "https://localhost:8080/"
        },
        "outputId": "948af70d-54a3-4fce-aa8b-46f598341979"
      },
      "source": [
        "# hash password: 256\n",
        "sha256_hash = hashlib.sha256(passwd.encode('utf-8')).hexdigest()\n",
        "print ('SHA256 Hash:',sha256_hash, ',legth:',len(sha256_hash))"
      ],
      "execution_count": null,
      "outputs": [
        {
          "output_type": "stream",
          "name": "stdout",
          "text": [
            "SHA256 Hash: fc2662062ffdef9610020183ea2b087c21d71150d78a7c7463be8a9050bd3ac9 ,legth: 64\n"
          ]
        }
      ]
    },
    {
      "cell_type": "code",
      "metadata": {
        "id": "I6Fj9H9RAk9V",
        "colab": {
          "base_uri": "https://localhost:8080/"
        },
        "outputId": "b8a57ef8-5aec-4093-bc9f-686612926e4c"
      },
      "source": [
        "# hash password: 512\n",
        "sha512_hash = hashlib.sha512(passwd.encode('utf-8')).hexdigest()\n",
        "print ('SHA512 Hash:',sha512_hash, ',legth:',len(sha512_hash))"
      ],
      "execution_count": null,
      "outputs": [
        {
          "output_type": "stream",
          "name": "stdout",
          "text": [
            "SHA512 Hash: a8085450e2166c59ba6f0012e9a8fde911845599bc93dcf88f6188aa7eab49dcbb206ebfccc441f9593b2363662a63e89304127445c1c7ccbe9c94103d6a42e4 ,legth: 128\n"
          ]
        }
      ]
    }
  ]
}