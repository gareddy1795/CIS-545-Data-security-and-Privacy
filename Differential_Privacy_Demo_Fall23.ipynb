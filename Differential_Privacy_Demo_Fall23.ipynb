{
  "nbformat": 4,
  "nbformat_minor": 0,
  "metadata": {
    "kernelspec": {
      "display_name": "Python 2",
      "language": "python",
      "name": "python2"
    },
    "language_info": {
      "codemirror_mode": {
        "name": "ipython",
        "version": 3
      },
      "file_extension": ".py",
      "mimetype": "text/x-python",
      "name": "python",
      "nbconvert_exporter": "python",
      "pygments_lexer": "ipython3",
      "version": "3.8.5"
    },
    "colab": {
      "provenance": []
    }
  },
  "cells": [
    {
      "cell_type": "code",
      "metadata": {
        "id": "2GBBsrf_tyl0"
      },
      "source": [
        "import pandas as pd\n",
        "import numpy as np\n",
        "\n",
        "# load census data\n",
        "census = pd.read_csv(\"https://raw.githubusercontent.com/um-dsp/CIS545/main/adult-with-pii.csv\")\n",
        "census.columns"
      ],
      "execution_count": null,
      "outputs": []
    },
    {
      "cell_type": "code",
      "source": [
        "census.head()"
      ],
      "metadata": {
        "id": "SYAhigvshtok"
      },
      "execution_count": null,
      "outputs": []
    },
    {
      "cell_type": "markdown",
      "metadata": {
        "id": "cyVHLAU1tyl6"
      },
      "source": [
        "Differential privacy is typically used to answer specific queries.\n",
        "Let's consider a query on the census data, without differential privacy.\n",
        "\n",
        "**Example**: how many people are older than 50 years?\n"
      ]
    },
    {
      "cell_type": "code",
      "metadata": {
        "id": "dIde6mQStyl7"
      },
      "source": [
        "result = census[census['Age'] >50].shape[0]\n",
        "result"
      ],
      "execution_count": null,
      "outputs": []
    },
    {
      "cell_type": "markdown",
      "metadata": {
        "id": "gUjFgs40tyl8"
      },
      "source": [
        "\n",
        "\n",
        "# Laplace Mechanism\n",
        "For a function $f(d)$ which returns a number, the following definition of $M(d)$ satisfies $\\epsilon$-differential privacy:\n",
        "$$\\begin{align}\n",
        "M(d) = f(d) + \\textsf{Lap}(\\frac{s}{\\epsilon})\n",
        "\\end{align}$$\n",
        "where $s$ is the sensitivity of $f$, and $\\textsf{Lap}(S)$ denotes sampling from the Laplace distribution with center 0 and scale $S = \\frac{s}{\\epsilon}$.\n",
        "\n",
        "The sensitivity of a function $f$ is the maximum amount $f$'s output changes when its input changes by 1 record. Counting queries always have a sensitivity of 1."
      ]
    },
    {
      "cell_type": "code",
      "metadata": {
        "id": "ekjcFc_3tyl9"
      },
      "source": [
        "sensitivity = 1\n",
        "epsilons = [0.1, 0.2, 0.3, 0.5, 0.7, 0.8, 0.9, 1]\n",
        "for e in epsilons:\n",
        "  print(e, result + np.random.laplace(loc=0, scale=sensitivity/e))"
      ],
      "execution_count": null,
      "outputs": []
    },
    {
      "cell_type": "markdown",
      "metadata": {
        "id": "UCi7phYXtyl9"
      },
      "source": [
        "# Gauss Mechanism\n",
        "For a function $f(d)$ which returns a number, the following definition of $M(d)$ satisfies ($\\epsilon$,$\\delta$)-differential privacy:\n",
        "\n",
        "$$\\begin{align}\n",
        "M(d) = f(d) + \\frac{s*\\sqrt{2*\\log{\\frac{1.25}{\\delta}}}}{\\epsilon}\n",
        "\\end{align}$$\n",
        "where $\\delta$ is the \"failure probability\"."
      ]
    },
    {
      "cell_type": "code",
      "metadata": {
        "id": "KeuG1YYU_nJ5",
        "colab": {
          "base_uri": "https://localhost:8080/"
        },
        "outputId": "57f79324-a69c-4b14-d6ed-c9664ce86208"
      },
      "source": [
        "1/census.shape[0]"
      ],
      "execution_count": null,
      "outputs": [
        {
          "output_type": "execute_result",
          "data": {
            "text/plain": [
              "3.071158748195694e-05"
            ]
          },
          "metadata": {},
          "execution_count": 7
        }
      ]
    },
    {
      "cell_type": "code",
      "metadata": {
        "id": "v4PoG_mFtyl-"
      },
      "source": [
        "sensitivity = 1\n",
        "epsilon = 0.8\n",
        "delta =3e-6 # <<1/census.shape[0]\n",
        "result +np.random.normal(loc=0, scale=sensitivity * np.sqrt(2*np.log(1.25/delta)) / epsilon)"
      ],
      "execution_count": null,
      "outputs": []
    },
    {
      "cell_type": "markdown",
      "metadata": {
        "id": "fuPnrbi6tyl_"
      },
      "source": [
        "You can see the effect of the noise by running the avove cell multiple times. Each time, the output changes, but most of the time, the answer is close enough to the true answer (6460) to be useful.\n",
        "\n",
        "# How much Noise is Enough Noise?"
      ]
    },
    {
      "cell_type": "markdown",
      "metadata": {
        "id": "EHEyvwC7tymA"
      },
      "source": [
        "How do we know that the Laplace mechanism adds enough noise to prevent the re-identification of individuals in the dataset? For one thing, we can try to break it! Let's write down a malicious counting query, which is specifically designed to determine whether Amelia Madison has an income greater than \\$50k."
      ]
    },
    {
      "cell_type": "code",
      "metadata": {
        "id": "9DynUXLptymA"
      },
      "source": [
        "Amelia_row = census[census['Name'] == 'Amelia Madison']\n",
        "Amelia_row[Amelia_row['Target'] == '<=50K'].shape[0]"
      ],
      "execution_count": null,
      "outputs": []
    },
    {
      "cell_type": "markdown",
      "metadata": {
        "id": "z-KJoAsrtymB"
      },
      "source": [
        "This result definitely violates Amelia's privacy, since it reveals the value of the income column for Amelia's row. Since we know how to ensure differential privacy for counting queries with the Laplace mechanism, we can do so for this query:"
      ]
    },
    {
      "cell_type": "code",
      "metadata": {
        "id": "uJ5kZ8I0tymC"
      },
      "source": [
        "sensitivity = 1\n",
        "epsilon = 0.3\n",
        "\n",
        "Amelia_row = census[census['Name'] == 'Amelia Madison']\n",
        "Amelia_row[Amelia_row['Target'] == '<=50K'].shape[0] + np.random.laplace(loc=0, scale=sensitivity/epsilon)"
      ],
      "execution_count": null,
      "outputs": []
    },
    {
      "cell_type": "markdown",
      "metadata": {
        "id": "AGZPI5rEtymC"
      },
      "source": [
        "There's too much noise to be able to reliably tell the true value. This is how differential privacy is intended to work - the approach does not reject queries which are determined to be malicious; instead, it adds enough noise that the results of a malicious query will be useless ( at least confusing) to the adversary."
      ]
    },
    {
      "cell_type": "markdown",
      "metadata": {
        "id": "lhd_GnaetymD"
      },
      "source": [
        "# Properties of Differential Privacy"
      ]
    },
    {
      "cell_type": "code",
      "metadata": {
        "id": "Ly_0SGAwtymD"
      },
      "source": [
        "\n",
        "import numpy as np\n",
        "import matplotlib.pyplot as plt\n",
        "plt.style.use('ggplot')\n",
        "\n",
        "# example epsilon values\n",
        "epsilon1 = 0.5\n",
        "epsilon2 = 0.5\n",
        "epsilon_total = epsilon1+epsilon2\n",
        "r = result # 6460"
      ],
      "execution_count": null,
      "outputs": []
    },
    {
      "cell_type": "code",
      "metadata": {
        "id": "-66qbCudtymD"
      },
      "source": [
        "# satisfies 0.5-DP\n",
        "def f1():\n",
        "    return r+ np.random.laplace(loc=0, scale=1/epsilon1)\n",
        "\n",
        "# satisfies 0.5-DP\n",
        "def f2():\n",
        "    return r+ np.random.laplace(loc=0, scale=1.0/epsilon2)\n",
        "\n",
        "# satisfies 1-DP\n",
        "def f3():\n",
        "    return r+ np.random.laplace(loc=0, scale=1/epsilon_total)\n",
        "\n",
        "# satisfies 1-DP, by sequential composition\n",
        "def f_composite():\n",
        "    return (f1() + f2()) / 2"
      ],
      "execution_count": null,
      "outputs": []
    },
    {
      "cell_type": "markdown",
      "metadata": {
        "id": "pDjupm_ytymE"
      },
      "source": [
        "# Sequential Composition"
      ]
    },
    {
      "cell_type": "code",
      "metadata": {
        "id": "n4shcI2OtymE"
      },
      "source": [
        "# plotting f1 and f2\n",
        "\n",
        "# plot f1\n",
        "plt.hist([f1() for i in range(2000)], bins=50, label='f1');\n",
        "\n",
        "# plot f2 (needs to be close to f1)\n",
        "plt.hist([f2() for i in range(2000)], bins=50, alpha=.65, label='f2');\n",
        "plt.legend()"
      ],
      "execution_count": null,
      "outputs": []
    },
    {
      "cell_type": "markdown",
      "metadata": {
        "id": "Hvt_NNs2tymF"
      },
      "source": [
        "As can be seen above f1 and f2 have similar distributions"
      ]
    },
    {
      "cell_type": "code",
      "metadata": {
        "id": "zPxLxEOytymF"
      },
      "source": [
        "# plotting f1 and f3\n",
        "\n",
        "# plot f1\n",
        "plt.hist([f1() for i in range(1000)], bins=50, label='f1');\n",
        "\n",
        "# plot f3\n",
        "plt.hist([f3() for i in range(1000)], bins=50, alpha=.6, label='f3');\n",
        "plt.legend()"
      ],
      "execution_count": null,
      "outputs": []
    },
    {
      "cell_type": "markdown",
      "metadata": {
        "id": "ef8Htk5ctymF"
      },
      "source": [
        "We see in the plot above: f3 is much pointy than f1 due to its higher $\\epsilon$ value, which implies less privacy (result is pretty close to true answer, i.e., 6460)."
      ]
    },
    {
      "cell_type": "code",
      "metadata": {
        "id": "yOtp8abOtymG"
      },
      "source": [
        "# plotting f1 and f_composite\n",
        "\n",
        "# plot f1\n",
        "plt.hist([f1() for i in range(1000)], bins=50, label='f1');\n",
        "\n",
        "# plot f_composite\n",
        "plt.hist([f_composite() for i in range(1000)], bins=50, alpha=.75, label='f_composite');\n",
        "plt.legend()"
      ],
      "execution_count": null,
      "outputs": []
    },
    {
      "cell_type": "code",
      "metadata": {
        "id": "q74i4Hy-tymG"
      },
      "source": [
        "# plotting f2 and f_composite\n",
        "\n",
        "# plot f2\n",
        "plt.hist([f2() for i in range(1000)], bins=50, label='f2');\n",
        "\n",
        "# plot f_composite\n",
        "plt.hist([f_composite() for i in range(1000)], bins=50, alpha=.75, label='f_composite');\n",
        "plt.legend()"
      ],
      "execution_count": null,
      "outputs": []
    },
    {
      "cell_type": "markdown",
      "metadata": {
        "id": "JWQeTB5EtymG"
      },
      "source": [
        "Distribution f_composite is more pointy -- meaning its outputs are more accurate than f1's/f2's outpts (reason: f_composite's $\\epsilon$ is higher, hence it yields less privacy than f1/f2)."
      ]
    },
    {
      "cell_type": "code",
      "metadata": {
        "id": "qIooVOLntymH"
      },
      "source": [
        "# plotting f3 and f_composite\n",
        "\n",
        "# plot f3\n",
        "plt.hist([f3() for i in range(1000)], bins=50, label='f3');\n",
        "\n",
        "# plot f_composite\n",
        "plt.hist([f_composite() for i in range(1000)], bins=50, alpha=.75, label='f_composite');\n",
        "plt.legend()"
      ],
      "execution_count": null,
      "outputs": []
    },
    {
      "cell_type": "markdown",
      "metadata": {
        "id": "mMIaRjvitymH"
      },
      "source": [
        "**Note**: $\\epsilon$ value for f3 and f_composite is $\\epsilon$ = 1. Hence, their output distributions should be close."
      ]
    },
    {
      "cell_type": "markdown",
      "metadata": {
        "id": "qng3mDiztymH"
      },
      "source": [
        "# Parallel Composition"
      ]
    },
    {
      "cell_type": "markdown",
      "metadata": {
        "id": "c2jQlsB1tymH"
      },
      "source": [
        "To simulate a chunk, let's consider a histogram (splits the dataset into \"bins\" based on the value of one of the attributes, and counts the number of rows in each bin).\n",
        "\n",
        "**Example**: count the number of people for each educational level."
      ]
    },
    {
      "cell_type": "code",
      "metadata": {
        "id": "7RJxSfostymI"
      },
      "source": [
        "census['Education'].value_counts()"
      ],
      "execution_count": null,
      "outputs": []
    },
    {
      "cell_type": "markdown",
      "metadata": {
        "id": "ZmSvG2VstymI"
      },
      "source": [
        "**Note**: Each bin (educational level): automatically satisfies parallel composition (reason: it's impossible for a single row to have two values for an attribute simultaneously, hence disjoint bins).\n",
        "\n",
        "Now, let's use a differentially private mechanism to release all of the bin counts with a total privacy cost of just $\\epsilon$ (as discussed in the lecture):"
      ]
    },
    {
      "cell_type": "code",
      "metadata": {
        "id": "GQpQk9wEtymI"
      },
      "source": [
        "epsilon = .5\n",
        "\n",
        "# total privacy cost = .9, even though we release 16 chunks!\n",
        "census['Education'].value_counts().apply(lambda x: x + np.random.laplace(loc=0, scale=1/epsilon))"
      ],
      "execution_count": null,
      "outputs": []
    },
    {
      "cell_type": "markdown",
      "metadata": {
        "id": "bX7jKou2tymI"
      },
      "source": [
        "Crosstabs (multi-dimensional histograms) used to analyze relationships between two attributes.\n",
        "\n",
        "**Example**: Let's consider a crosstab that summarizes education level based on gender\n"
      ]
    },
    {
      "cell_type": "code",
      "metadata": {
        "id": "oNKiHF-BtymI"
      },
      "source": [
        "pd.crosstab(census['Education'], census['Sex'])"
      ],
      "execution_count": null,
      "outputs": []
    },
    {
      "cell_type": "markdown",
      "metadata": {
        "id": "gw3P1EKjtymJ"
      },
      "source": [
        "**Note**: as in the histogram we saw earlier, each individual in the dataset participates in exactly one count appearing in this table (hence, it's safe to use parallel composition)"
      ]
    },
    {
      "cell_type": "code",
      "metadata": {
        "id": "gSnUSy3ktymJ"
      },
      "source": [
        "epsilon = 1\n",
        "edu_gender = pd.crosstab(census['Education'], census['Sex'])\n",
        "edu_gender.applymap(lambda x: x + np.random.laplace(loc=0, scale=1/epsilon))"
      ],
      "execution_count": null,
      "outputs": []
    },
    {
      "cell_type": "markdown",
      "metadata": {
        "id": "4mY7Cv5DtymJ"
      },
      "source": [
        "**Question**: what happens if we keep adding other attributes to the crostab? For example, I add one more axis (say relationship) to the above analysis. Reason about implications on privacy and utility.\n",
        "\n",
        "**Answer**: the values will gradually decrease and data becomes less useful (spontaneous degradation in utility)."
      ]
    },
    {
      "cell_type": "markdown",
      "metadata": {
        "id": "1eu8H2grtymJ"
      },
      "source": [
        "# Post-Processing\n",
        "\n",
        "Based on the above differentially private output after parallel composition, suppose we would like to round each result to the nearest integer.\n",
        "\n",
        "**Question**: why is this a plausible post-processing and what are the risks here?\n",
        "\n",
        "**Answer**: plausible because we are counting persons; risky because the rounding might reveal true outputs."
      ]
    },
    {
      "cell_type": "code",
      "metadata": {
        "id": "T1OgP-NptymK"
      },
      "source": [
        "edu_gender.applymap(lambda x: round(x + np.random.laplace(loc=0, scale=1/epsilon)))"
      ],
      "execution_count": null,
      "outputs": []
    },
    {
      "cell_type": "markdown",
      "metadata": {
        "id": "F8d7z2tCtymK"
      },
      "source": [
        "# More on sensitivity\n",
        "\n",
        "**Counting Queries**"
      ]
    },
    {
      "cell_type": "markdown",
      "metadata": {
        "id": "QsRRyGqttymK"
      },
      "source": [
        "**Example 1**: how many people are in the census dataset?\n",
        "\n",
        "Sensitivity = 1"
      ]
    },
    {
      "cell_type": "code",
      "metadata": {
        "id": "ZC3FlM-TtymK"
      },
      "source": [
        "census.shape[0]+np.random.laplace(loc=0, scale=1/0.2)"
      ],
      "execution_count": null,
      "outputs": []
    },
    {
      "cell_type": "markdown",
      "metadata": {
        "id": "UWSynFiPtymK"
      },
      "source": [
        "**Example 2**: how many people have an educational status above 10?\n",
        "    \n",
        "Sesitivity = 1"
      ]
    },
    {
      "cell_type": "code",
      "metadata": {
        "id": "ccSyuYRAtymK"
      },
      "source": [
        "census[census['Education-Num']>10].shape[0]"
      ],
      "execution_count": null,
      "outputs": []
    },
    {
      "cell_type": "code",
      "source": [
        "census[census['Education-Num']>10].shape[0]+np.random.laplace(loc=0, scale=1/0.2)"
      ],
      "metadata": {
        "id": "lgy7iOZhuabu"
      },
      "execution_count": null,
      "outputs": []
    },
    {
      "cell_type": "markdown",
      "metadata": {
        "id": "w4L9hyZ3tymL"
      },
      "source": [
        "**Example 3**: how many people are named Birhanu Eshete?\n",
        "\n",
        "Sensitivity = 1"
      ]
    },
    {
      "cell_type": "code",
      "metadata": {
        "id": "OAN8R74FtymL"
      },
      "source": [
        "census[census['Name']=='Birhanu Eshete'].shape[0]"
      ],
      "execution_count": null,
      "outputs": []
    },
    {
      "cell_type": "code",
      "source": [
        "census[census['Name']=='Birhanu Eshete'].shape[0]+ np.random.laplace(loc=0, scale=1/0.2)"
      ],
      "metadata": {
        "id": "YSFpBzbiur6t"
      },
      "execution_count": null,
      "outputs": []
    },
    {
      "cell_type": "markdown",
      "metadata": {
        "id": "HNe2QkC4tymL"
      },
      "source": [
        "**Summation Queries**"
      ]
    },
    {
      "cell_type": "markdown",
      "metadata": {
        "id": "qVlaJJbWtymL"
      },
      "source": [
        "**Example 4**: what is the sum of the ages of people with educational status below 10?\n",
        "\n",
        "Sensitivity = ?"
      ]
    },
    {
      "cell_type": "code",
      "metadata": {
        "id": "WD6rAv2DtymL"
      },
      "source": [
        "census[census['Education-Num']<10]['Age'].sum()"
      ],
      "execution_count": null,
      "outputs": []
    },
    {
      "cell_type": "code",
      "source": [
        "census[census['Education-Num']<10]['Age'].sum() + np.random.laplace(loc=0, scale=125/0.5)"
      ],
      "metadata": {
        "id": "9wzbrhcTvwXg"
      },
      "execution_count": null,
      "outputs": []
    },
    {
      "cell_type": "markdown",
      "metadata": {
        "id": "onFGx0T3tymL"
      },
      "source": [
        "**Note**: Sensitivity is not as straight forward as counting queries. Adding a new row to census will increase the sum by the age of the new record (sensitivity depends on the content of the row we add, 125 perhaps?).\n",
        "\n",
        "**Rule of thumb**: summation queries have unbounded sensitivity when no \\[lower,upper\\] exist for the attribute being summed. When \\[lower, upper\\] exists, sensitivity = \\|upper -  lower\\|."
      ]
    },
    {
      "cell_type": "code",
      "source": [],
      "metadata": {
        "id": "KOZQaZ11vvch"
      },
      "execution_count": null,
      "outputs": []
    },
    {
      "cell_type": "markdown",
      "metadata": {
        "id": "AokSbkMdtymM"
      },
      "source": [
        "**Average Queries**"
      ]
    },
    {
      "cell_type": "markdown",
      "metadata": {
        "id": "Bjd1u28ftymM"
      },
      "source": [
        "**Example 5**: what is the average age of people with educational status below 10?\n",
        "\n",
        "Sensitivity = ?"
      ]
    },
    {
      "cell_type": "code",
      "metadata": {
        "id": "8Yz8lQJxtymM"
      },
      "source": [
        "census[census['Education-Num']<10]['Age'].mean()"
      ],
      "execution_count": null,
      "outputs": []
    },
    {
      "cell_type": "markdown",
      "metadata": {
        "id": "qOnUI6yotymM"
      },
      "source": [
        "**Question**: how do we answer the above query with differential privacy? (Hint: split the query)"
      ]
    },
    {
      "cell_type": "code",
      "metadata": {
        "id": "oNVA-kvaQ36N"
      },
      "source": [
        "sensitivity_sum = 125\n",
        "epsilon = 0.01\n",
        "dp_sum = census[census['Education-Num']<10]['Age'].sum() + np.random.laplace(loc=0, scale=sensitivity_sum/epsilon)\n",
        "print('DP-Sum:', dp_sum)\n",
        "sensitivity_cnt = 1\n",
        "dp_count = census[census['Education-Num']<10]['Age'].shape[0] +np.random.laplace(loc=0, scale=sensitivity_cnt/epsilon)\n",
        "print ('DP-Count:',dp_count)\n",
        "dp_mean = dp_sum/dp_count\n",
        "print ('DP-Mean',round(dp_mean))"
      ],
      "execution_count": null,
      "outputs": []
    },
    {
      "cell_type": "markdown",
      "metadata": {
        "id": "vE3IqF5jtymM"
      },
      "source": [
        "# Clipping\n",
        "\n",
        "Queries with unbounded sensitivity cannot be directly answered with differential privacy using noise. We can transform such queries to equivalent queries with bounded sensitivity, through a process called *clipping*.\n",
        "\n",
        "**Example**: consider age and we would like to clip age to \\[0,125\\]. The rationale being: a) oldest age recorded is 125, b) newborns may be in the dataset."
      ]
    },
    {
      "cell_type": "code",
      "metadata": {
        "id": "JNoDFOrCtymM"
      },
      "source": [
        "census['Age'].sum()"
      ],
      "execution_count": null,
      "outputs": []
    },
    {
      "cell_type": "code",
      "source": [
        "census['Age'].clip(lower=20,upper=125).sum()"
      ],
      "metadata": {
        "id": "gQGXVCpbmDjp"
      },
      "execution_count": null,
      "outputs": []
    },
    {
      "cell_type": "markdown",
      "metadata": {
        "id": "VmmAFYvltymN"
      },
      "source": [
        "**Question**: What is the sensitivity for the above query?"
      ]
    },
    {
      "cell_type": "markdown",
      "metadata": {
        "id": "ctCHWzwMtymN"
      },
      "source": [
        "**Note**: clipping for attributes such as age is relatively simple. However, for other attributes (e.g., salary) it happens to be hard.\n",
        "\n",
        "**Rule of thumb**: try to set the clipping bounds to include the whole dataset (as close as possible)."
      ]
    },
    {
      "cell_type": "markdown",
      "metadata": {
        "id": "Gybc1NBgtymN"
      },
      "source": [
        "**Finding clipping clues by looking at the data**"
      ]
    },
    {
      "cell_type": "code",
      "metadata": {
        "id": "N7c8Yq5YtymN"
      },
      "source": [
        "plt.hist(census['Age'])"
      ],
      "execution_count": null,
      "outputs": []
    },
    {
      "cell_type": "code",
      "metadata": {
        "id": "h9LJJsmwtymN"
      },
      "source": [
        "plt.hist(census['fnlwgt'])"
      ],
      "execution_count": null,
      "outputs": []
    },
    {
      "cell_type": "code",
      "metadata": {
        "id": "yEXNhGXDtymN",
        "colab": {
          "base_uri": "https://localhost:8080/",
          "height": 334
        },
        "outputId": "abe52d34-8044-4254-f2fd-c69f2ddf22fc"
      },
      "source": [
        "plt.hist(census['Education-Num'])"
      ],
      "execution_count": null,
      "outputs": [
        {
          "output_type": "execute_result",
          "data": {
            "text/plain": [
              "(array([  219.,   333.,  1160.,   933.,  1608., 10501.,  8673.,  1067.,\n",
              "         7078.,   989.]),\n",
              " array([ 1. ,  2.5,  4. ,  5.5,  7. ,  8.5, 10. , 11.5, 13. , 14.5, 16. ]),\n",
              " <a list of 10 Patch objects>)"
            ]
          },
          "metadata": {},
          "execution_count": 59
        },
        {
          "output_type": "display_data",
          "data": {
            "text/plain": [
              "<Figure size 432x288 with 1 Axes>"
            ],
            "image/png": "[encoded data removed]"
          },
          "metadata": {}
        }
      ]
    },
    {
      "cell_type": "code",
      "metadata": {
        "id": "WE-FbgsKtymO"
      },
      "source": [
        "plt.hist(census['Hours per week'])"
      ],
      "execution_count": null,
      "outputs": []
    },
    {
      "cell_type": "markdown",
      "metadata": {
        "id": "xQ958SdatymO"
      },
      "source": [
        "**Question**: is determining the clipping bounds this way inline with differential privacy?\n",
        "\n",
        "**Answer**: not necessarily, because if we clip based on the bounds found directly from the dataset, we might end up releasing crucial clues about the values of an attribue."
      ]
    }
  ]
}