{
  "cells": [
    {
      "cell_type": "markdown",
      "metadata": {
        "id": "tyAeEvIvu3gQ"
      },
      "source": [
        "## Integrity Levels for Subjects (e.g., programs, processes, threads, users) and objects (e.g., network addresses):\n",
        " * Benign Authentic (BA): 3\n",
        " * Benign (B): 2\n",
        " * Suspicious (SP): 1\n",
        " * Unknown (U):0\n",
        "\n",
        "\n",
        " ## Confidentialiy Levels for Objects (e.g., files, memory blocks):\n",
        " * Secret (SC): 3\n",
        " * Sensitive (SN): 2\n",
        " * Private (PR): 1\n",
        " * Public (PB): 0\n",
        "\n",
        "\n",
        " ## Breach Detection Policies:\n",
        "\n",
        " * **Untrusted Execution (UE)**: A subject with higher integrity level executes (loads) an object with lower integrity level.\n",
        "\n",
        "* **Suspicious Modification (SM)**:A subject with lower integrity level modifies (content, attributes) an object with higher confidentiality level.\n",
        "\n",
        "* **Data Leak(DL)**: A low integrity subject writes a higher confidentiality data to a low integrity destination (e.g., untrusted network address).\n",
        "\n",
        "* **Sensitive Read (SR)**: A subject with lower integrity level reads an object (e.g., a file) with a higher confidentiality level or a subject with higher integrity level reads from a network source (e.g., IP address) with a lower integrity level."
      ]
    },
    {
      "cell_type": "markdown",
      "metadata": {
        "id": "BFKiIGvsvSsQ"
      },
      "source": [
        "# Question:\n",
        "\n",
        "Write a simulation of this custom access control system to check the above breach detection policies."
      ]
    },
    {
      "cell_type": "code",
      "execution_count": 27,
      "metadata": {
        "id": "ExkgfyiyufJq"
      },
      "outputs": [],
      "source": [
        "class Subject:\n",
        "  def __init__(self, name, integrity_level):\n",
        "    self.name = name\n",
        "    self.integrity_level = integrity_level\n",
        "\n",
        "  def read (self, obj):\n",
        "    # ToDo: homework 2: 5pts\n",
        "    if self.integrity_level<obj.confidentiality_level:\n",
        "      return False\n",
        "    else:\n",
        "      return True\n",
        "    \n",
        "  def write (self, obj):\n",
        "    # ToDo: homework 2: 5pts\n",
        "    if self.integrity_level in [0, 1] and obj.confidentiality_level in [2, 3]:\n",
        "        return False\n",
        "    else:\n",
        "        return True\n",
        "    \n",
        "  def execute (self, obj):\n",
        "    if self.integrity_level >obj.integrity_level:\n",
        "      return False\n",
        "    else:\n",
        "      return True\n",
        "\n"
      ]
    },
    {
      "cell_type": "code",
      "execution_count": 22,
      "metadata": {
        "id": "BtbCMHM35wY-"
      },
      "outputs": [],
      "source": [
        "class Object:\n",
        "  def __init__(self, name,confidentiality_level, integrity_level):\n",
        "    self.name = name\n",
        "    self.integrity_level = integrity_level\n",
        "    self.confidentiality_level = confidentiality_level\n",
        "\n",
        "\n"
      ]
    },
    {
      "cell_type": "code",
      "execution_count": 23,
      "metadata": {
        "id": "TtZWUWGY6za6"
      },
      "outputs": [],
      "source": [
        "# subjects\n",
        "firefox = Subject('Firefox.bin',3)\n",
        "bash = Subject('bash', 3)\n",
        "sudo = Subject('sudo', 3)\n",
        "cp = Subject ('cp',3)\n",
        "myprogram = Subject('myprogram.cpp', 2)\n",
        "downloaded = Subject('downloaded.py', 1)\n",
        "\n",
        "\n",
        "# Objects: network addresses\n",
        "IPA = Object('a.a.a.a:80',-1,0)\n",
        "IPB = Object('b.b.b.b.:80', -1, 0)\n",
        "IPC = Object('c.c.c.c:80', -1,3)\n",
        "\n",
        "# Objects: files\n",
        "File1 = Object('/etc/passwd',3, -1)\n",
        "File2 = Object('/home/alice/code.cpp', 2, -1)\n",
        "File3= Object ('mycv.pdf', 0, -1)\n",
        "\n"
      ]
    },
    {
      "cell_type": "code",
      "execution_count": 4,
      "metadata": {
        "id": "W39rlHUm8hKv"
      },
      "outputs": [],
      "source": [
        "# untrusted execution check\n",
        "def untrusted_execution_check (subj, obj):\n",
        "  return subj.execute(obj)\n"
      ]
    },
    {
      "cell_type": "markdown",
      "metadata": {},
      "source": [
        "Fales means breach is detected"
      ]
    },
    {
      "cell_type": "markdown",
      "metadata": {},
      "source": []
    },
    {
      "cell_type": "code",
      "execution_count": 29,
      "metadata": {
        "id": "u66OLqjjXArU"
      },
      "outputs": [],
      "source": [
        " # Suspicious modification detection\n",
        "def suspicious_modification_check (subj, obj):\n",
        "  return subj.write(obj)"
      ]
    },
    {
      "cell_type": "code",
      "execution_count": 30,
      "metadata": {},
      "outputs": [],
      "source": [
        "def data_leak_check(subj, obj):\n",
        "    return subj.write(obj)"
      ]
    },
    {
      "cell_type": "code",
      "execution_count": 31,
      "metadata": {
        "id": "GQZUzs9xXen3"
      },
      "outputs": [],
      "source": [
        "# Sensitive read detection\n",
        "def sensitive_read_check(subj,obj):\n",
        " return subj.read(obj)"
      ]
    },
    {
      "cell_type": "code",
      "execution_count": 26,
      "metadata": {
        "id": "FKH0vSM5XnsG"
      },
      "outputs": [
        {
          "data": {
            "text/plain": [
              "False"
            ]
          },
          "execution_count": 26,
          "metadata": {},
          "output_type": "execute_result"
        }
      ],
      "source": [
        "# Use the following test cases to verify your code: you can re-write them as assertions if you want.\n",
        "\n",
        "untrusted_execution_check(firefox,myprogram)\n",
        "untrusted_execution_check(bash, sudo)\n",
        "untrusted_execution_check(downloaded,myprogram)\n",
        "data_leak_check(downloaded,IPB)\n",
        "sensitive_read_check(myprogram,File1)\n",
        "suspicious_modification_check(downloaded,File1)\n",
        "sensitive_read_check(firefox,IPA)\n",
        "untrusted_execution_check(bash,myprogram)\n",
        "data_leak_check(firefox,IPB)\n",
        "sensitive_read_check(myprogram,IPB)\n",
        "sensitive_read_check(myprogram,IPC)\n",
        "data_leak_check(firefox,IPC)\n",
        "sensitive_read_check(downloaded,File3)\n",
        "suspicious_modification_check(downloaded,File2)\n",
        "suspicious_modification_check(myprogram,File1)\n",
        "\n"
      ]
    },
    {
      "cell_type": "code",
      "execution_count": 12,
      "metadata": {
        "id": "-uSgRmRcOLbJ"
      },
      "outputs": [
        {
          "data": {
            "text/plain": [
              "False"
            ]
          },
          "execution_count": 12,
          "metadata": {},
          "output_type": "execute_result"
        }
      ],
      "source": [
        "untrusted_execution_check(firefox,myprogram)"
      ]
    },
    {
      "cell_type": "code",
      "execution_count": 32,
      "metadata": {},
      "outputs": [
        {
          "data": {
            "text/plain": [
              "True"
            ]
          },
          "execution_count": 32,
          "metadata": {},
          "output_type": "execute_result"
        }
      ],
      "source": [
        "untrusted_execution_check(bash, sudo)"
      ]
    },
    {
      "cell_type": "code",
      "execution_count": 33,
      "metadata": {},
      "outputs": [
        {
          "data": {
            "text/plain": [
              "True"
            ]
          },
          "execution_count": 33,
          "metadata": {},
          "output_type": "execute_result"
        }
      ],
      "source": [
        "untrusted_execution_check(downloaded,myprogram)"
      ]
    },
    {
      "cell_type": "code",
      "execution_count": 34,
      "metadata": {},
      "outputs": [
        {
          "data": {
            "text/plain": [
              "True"
            ]
          },
          "execution_count": 34,
          "metadata": {},
          "output_type": "execute_result"
        }
      ],
      "source": [
        "data_leak_check(downloaded,IPB)"
      ]
    },
    {
      "cell_type": "code",
      "execution_count": 35,
      "metadata": {},
      "outputs": [
        {
          "data": {
            "text/plain": [
              "False"
            ]
          },
          "execution_count": 35,
          "metadata": {},
          "output_type": "execute_result"
        }
      ],
      "source": [
        "sensitive_read_check(myprogram,File1)"
      ]
    },
    {
      "cell_type": "code",
      "execution_count": 36,
      "metadata": {},
      "outputs": [
        {
          "data": {
            "text/plain": [
              "False"
            ]
          },
          "execution_count": 36,
          "metadata": {},
          "output_type": "execute_result"
        }
      ],
      "source": [
        "suspicious_modification_check(downloaded,File1)"
      ]
    },
    {
      "cell_type": "code",
      "execution_count": 37,
      "metadata": {},
      "outputs": [
        {
          "data": {
            "text/plain": [
              "True"
            ]
          },
          "execution_count": 37,
          "metadata": {},
          "output_type": "execute_result"
        }
      ],
      "source": [
        "sensitive_read_check(firefox,IPA)"
      ]
    },
    {
      "cell_type": "code",
      "execution_count": 38,
      "metadata": {},
      "outputs": [
        {
          "data": {
            "text/plain": [
              "False"
            ]
          },
          "execution_count": 38,
          "metadata": {},
          "output_type": "execute_result"
        }
      ],
      "source": [
        "untrusted_execution_check(bash,myprogram)"
      ]
    },
    {
      "cell_type": "code",
      "execution_count": 39,
      "metadata": {},
      "outputs": [
        {
          "data": {
            "text/plain": [
              "True"
            ]
          },
          "execution_count": 39,
          "metadata": {},
          "output_type": "execute_result"
        }
      ],
      "source": [
        "data_leak_check(firefox,IPB)"
      ]
    },
    {
      "cell_type": "code",
      "execution_count": 40,
      "metadata": {},
      "outputs": [
        {
          "data": {
            "text/plain": [
              "True"
            ]
          },
          "execution_count": 40,
          "metadata": {},
          "output_type": "execute_result"
        }
      ],
      "source": [
        "sensitive_read_check(myprogram,IPB)"
      ]
    },
    {
      "cell_type": "code",
      "execution_count": 41,
      "metadata": {},
      "outputs": [
        {
          "data": {
            "text/plain": [
              "True"
            ]
          },
          "execution_count": 41,
          "metadata": {},
          "output_type": "execute_result"
        }
      ],
      "source": [
        "sensitive_read_check(myprogram,IPC)"
      ]
    },
    {
      "cell_type": "code",
      "execution_count": 42,
      "metadata": {},
      "outputs": [
        {
          "data": {
            "text/plain": [
              "True"
            ]
          },
          "execution_count": 42,
          "metadata": {},
          "output_type": "execute_result"
        }
      ],
      "source": [
        "data_leak_check(firefox,IPC)"
      ]
    },
    {
      "cell_type": "code",
      "execution_count": 43,
      "metadata": {},
      "outputs": [
        {
          "data": {
            "text/plain": [
              "True"
            ]
          },
          "execution_count": 43,
          "metadata": {},
          "output_type": "execute_result"
        }
      ],
      "source": [
        "sensitive_read_check(downloaded,File3)"
      ]
    },
    {
      "cell_type": "code",
      "execution_count": 44,
      "metadata": {},
      "outputs": [
        {
          "data": {
            "text/plain": [
              "False"
            ]
          },
          "execution_count": 44,
          "metadata": {},
          "output_type": "execute_result"
        }
      ],
      "source": [
        "suspicious_modification_check(downloaded,File2)"
      ]
    },
    {
      "cell_type": "code",
      "execution_count": 45,
      "metadata": {},
      "outputs": [
        {
          "data": {
            "text/plain": [
              "False"
            ]
          },
          "execution_count": 45,
          "metadata": {},
          "output_type": "execute_result"
        }
      ],
      "source": [
        "suspicious_modification_check(myprogram,File1)\n"
      ]
    },
    {
      "cell_type": "code",
      "execution_count": null,
      "metadata": {},
      "outputs": [],
      "source": []
    }
  ],
  "metadata": {
    "colab": {
      "provenance": []
    },
    "kernelspec": {
      "display_name": "Python 3",
      "name": "python3"
    },
    "language_info": {
      "codemirror_mode": {
        "name": "ipython",
        "version": 3
      },
      "file_extension": ".py",
      "mimetype": "text/x-python",
      "name": "python",
      "nbconvert_exporter": "python",
      "pygments_lexer": "ipython3",
      "version": "3.8.18"
    }
  },
  "nbformat": 4,
  "nbformat_minor": 0
}
